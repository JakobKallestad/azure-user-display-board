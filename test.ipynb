{
 "cells": [
  {
   "cell_type": "code",
   "execution_count": 1,
   "metadata": {},
   "outputs": [],
   "source": [
    "#https://graph.microsoft.com/v1.0/sites/{site_id}/drives/{drive_id}/list/items?expand=fields\n",
    "\n",
    "#https://graph.microsoft.com/v1.0/me/drive/root:/Pictures/Familiebilder/Videoer gamle:/children\n",
    "\n",
    "#https://graph.microsoft.com/v1.0/me/drive/root:/Pictures/Familiebilder/Videoer gamle:/list/items?expand=fields"
   ]
  },
  {
   "cell_type": "code",
   "execution_count": 2,
   "metadata": {},
   "outputs": [
    {
     "name": "stdout",
     "output_type": "stream",
     "text": [
      "EwBYBMl6BAAUBKgm8k1UswUNwklmy2v7U/S+1fEAAds/RwcJ5OB7Rnnb/s7bGTYtUHWllNUsv4yJJaMgwZuR2GdfGhB2odMBXa3LvN6FXS3d6tWk4a7IbYbO5oM/Nyn8iQpZHWkxNezHf6ib9kZIdkrJwKyIYxRMuTfRJHGsd4dALtR8qKojeEeqL/KBTR3rPSN0hP1+OeKGRMRFuA2valAV2w49ZS+UFnx8ysuUaWjea9vPgBMHDBR2g59pGOBzAMBl2XrckWukVCDKe0MPUjm6gBai+VLW24GF4Rpgt71qggLynzLmyoDmuJ4ViATXY99Q+sLoCjWaCLpQarYEY3SsYmkiC0JojOl9fYlZU/Ln3EUZA/AaejtHEL0eC0IQZgAAECEmA+y/+2zOQ9OWpUud8XUgA0JhvfTs80ZHlKFea36v4k/JdIbr5H7JgmzL3aEqcpVg/7xkuwn360c/VeCFS4cXH41kSC8qG4ywRJ48INmnhrgkyapNNACCNdTA6EwCZprgL7AEDw7+s9o9Ar64U+x9GeEpi7Gr3nClrfGFshFnzGgBXU4WsQiFDysurg9EYFeOirQGEFgxUBK+4uUYqF1yfSTvtLAcO4PR75WDi5zeUxPr8E/YQNvIPMZpXpuuj5EwY8p9peVcfGw0vxDXy16emfoOPI0fmuNNVSAEK+P+tdAW+1Inm2vbbDzbjy7mqf9I/K0DErYiK2B/1JhHIwc2xDk9hroOjaohXqH8/3e8rjUCnkqIYts02HAPU9o08kO8DZAOABRsAQKjyV55XcvBQ5FY7wtuDQa90KyvS8XTX0kkLaW9McZ6dSZd9UQQLHmiJBcbVebTDBR6lEoUzO6LyyNmMHKvB74Ly0XaJcFmQHkomhNHhDFFY/l4r0uVFuREpVKJYwsN51y1nUBwiLl7sgHE3Vg1xKd63pQyKLQVZzEee+fNs33ecxwtJmy0Ec8FYZnBBW6G7VKwj6CF46Jpc97JOXdAZQHYT1z9nUMrTSuzg41d7p0AQzHTEYAryNcC+MLgJwQofwHYq3fcfe8wwLktDpNIh/o2hAuKQkrZ/kOIl7hoF/x1dBdYZ1hIVsP3FhwmeEiQP11tRIMGCFWDSS7lE6+6Qh5aGxXNbwzNF0X+vuGIv6Qr0OsEhcYDI0LDBhTNXYFo99I6z4EyjT/LTl6Ta+ZLRlahG6DIQAo8TW3HlL5Y82BYgZbI0+3Y4yfZh0tV7wWFcSKPuhjgZq51YM7nYxJlChwZgNv4zunR0xwL4jxvfE++AjdaRKBxitLuC3rpvdkYNDadiohqP+3rT8VVdWwgcE9K+c50a393XA55oqL/TGGF3ItLv/raTHeUoHktr+naWKhpxyyKdgfH5ZZwvQSZxSDiCDAhHiar6n5j2p8IeahUc/bp9NNLhk1eNj91agjS0ATGRFUnH3e5cNVw43qZ1Q+3y9XXuJtacGy/0INJwDTQSWRqndYwzyWdVAM=\n"
     ]
    }
   ],
   "source": [
    "with open(\"token.txt\", \"r\") as file:\n",
    "    token = file.read()\n",
    "\n",
    "print(token)"
   ]
  },
  {
   "cell_type": "code",
   "execution_count": 3,
   "metadata": {},
   "outputs": [],
   "source": [
    "#async def get_items(): #-> AsyncGenerator[ListItem, None]:\n",
    "import aiohttp\n",
    "\n",
    "item_ids = [\"47575C443A523D3A!76020\"]\n",
    "new_item_ids = []\n",
    "final_item_ids = []\n",
    "async with aiohttp.ClientSession(\n",
    "    headers={\n",
    "        \"Content-Type\": \"application/json\",\n",
    "        \"Accept\": \"application/json\",\n",
    "    }\n",
    ") as http_client:\n",
    "    while item_ids:\n",
    "        for item_id in item_ids:\n",
    "            async with http_client.get(\n",
    "                url=f\"https://graph.microsoft.com/v1.0/me/drive/items/{item_id}/children\",\n",
    "                headers={\"Authorization\": f\"{token}\"},\n",
    "            ) as response:\n",
    "                response.raise_for_status()\n",
    "                msg = await response.json()\n",
    "                items = msg[\"value\"]\n",
    "\n",
    "            for item in items:\n",
    "                #print(item[\"eTag\"])\n",
    "                #print(item[\"name\"])\n",
    "                #print(item[\"id\"])\n",
    "                #print()\n",
    "                if item[\"name\"].endswith(\".VOB\"):\n",
    "                    final_item_ids.append((item[\"id\"], item[\"name\"], item[\"parentReference\"][\"id\"]))\n",
    "                elif \"file\" not in item:\n",
    "                    new_item_ids.append(item[\"id\"])\n",
    "        item_ids = new_item_ids\n",
    "        new_item_ids = []\n"
   ]
  },
  {
   "cell_type": "code",
   "execution_count": 4,
   "metadata": {},
   "outputs": [],
   "source": [
    "#len(item_ids)"
   ]
  },
  {
   "cell_type": "code",
   "execution_count": 5,
   "metadata": {},
   "outputs": [],
   "source": [
    "#len(final_item_ids)"
   ]
  },
  {
   "cell_type": "code",
   "execution_count": 4,
   "metadata": {},
   "outputs": [
    {
     "data": {
      "text/plain": [
       "52"
      ]
     },
     "execution_count": 4,
     "metadata": {},
     "output_type": "execute_result"
    }
   ],
   "source": [
    "#final_item_ids = final_item_ids[0:3]\n",
    "len(final_item_ids)"
   ]
  },
  {
   "cell_type": "code",
   "execution_count": 8,
   "metadata": {},
   "outputs": [
    {
     "data": {
      "application/vnd.jupyter.widget-view+json": {
       "model_id": "82c71956d526461191f3231e68b31dc5",
       "version_major": 2,
       "version_minor": 0
      },
      "text/plain": [
       "  0%|          | 0/52 [00:00<?, ?it/s]"
      ]
     },
     "metadata": {},
     "output_type": "display_data"
    },
    {
     "data": {
      "application/vnd.jupyter.widget-view+json": {
       "model_id": "fd2b4c079dd640ffbd2a9b760f83d79c",
       "version_major": 2,
       "version_minor": 0
      },
      "text/plain": [
       "Downloading VIDEO_TS.VOB:   0%|          | 0.00/22.1k [00:00<?, ?B/s]"
      ]
     },
     "metadata": {},
     "output_type": "display_data"
    },
    {
     "data": {
      "application/vnd.jupyter.widget-view+json": {
       "model_id": "2dae6c5918e342dbba57981612a06736",
       "version_major": 2,
       "version_minor": 0
      },
      "text/plain": [
       "Downloading VIDEO_TS.VOB:   0%|          | 0.00/26.1k [00:00<?, ?B/s]"
      ]
     },
     "metadata": {},
     "output_type": "display_data"
    },
    {
     "name": "stderr",
     "output_type": "stream",
     "text": [
      "INFO:__main__:Downloaded: 47575C443A523D3A!76060-VIDEO_TS.VOB\n",
      "INFO:__main__:Downloaded: 47575C443A523D3A!76093-VIDEO_TS.VOB\n"
     ]
    },
    {
     "data": {
      "application/vnd.jupyter.widget-view+json": {
       "model_id": "6ba510bcd9a245269aec4932dded85af",
       "version_major": 2,
       "version_minor": 0
      },
      "text/plain": [
       "Downloading VTS_01_3.VOB:   0%|          | 0.00/1.00G [00:00<?, ?B/s]"
      ]
     },
     "metadata": {},
     "output_type": "display_data"
    },
    {
     "data": {
      "application/vnd.jupyter.widget-view+json": {
       "model_id": "61b1f39cd87a41769c469693392a8761",
       "version_major": 2,
       "version_minor": 0
      },
      "text/plain": [
       "Downloading VTS_01_4.VOB:   0%|          | 0.00/252M [00:00<?, ?B/s]"
      ]
     },
     "metadata": {},
     "output_type": "display_data"
    },
    {
     "data": {
      "application/vnd.jupyter.widget-view+json": {
       "model_id": "e6020278d9bd4a6ba988befd872f1919",
       "version_major": 2,
       "version_minor": 0
      },
      "text/plain": [
       "Downloading VTS_01_3.VOB:   0%|          | 0.00/1.00G [00:00<?, ?B/s]"
      ]
     },
     "metadata": {},
     "output_type": "display_data"
    }
   ],
   "source": [
    "import os\n",
    "import aiohttp\n",
    "import aiofiles\n",
    "import asyncio\n",
    "from tqdm.auto import tqdm\n",
    "import logging\n",
    "\n",
    "logging.basicConfig(level=logging.INFO)\n",
    "logger = logging.getLogger(__name__)\n",
    "\n",
    "output_dir = \"vob_files\"\n",
    "CONCURRENT_DOWNLOADS = 3  # Limit concurrent downloads\n",
    "\n",
    "# Semaphore to limit concurrent downloads\n",
    "semaphore = asyncio.Semaphore(CONCURRENT_DOWNLOADS)\n",
    "\n",
    "async def download_file(http_client, item_id, item_name, item_parent_id, token, output_dir):\n",
    "    async with semaphore:  # Limit concurrent downloads\n",
    "        try:\n",
    "            async with http_client.get(\n",
    "                url=f\"https://graph.microsoft.com/v1.0/me/drive/items/{item_id}/content\",\n",
    "                headers={\"Authorization\": f\"{token}\"}\n",
    "            ) as response:\n",
    "                response.raise_for_status()\n",
    "\n",
    "                # Get content length for progress bar\n",
    "                total_size = int(response.headers.get(\"Content-Length\", 0))\n",
    "                file_path = os.path.join(output_dir, f\"{item_parent_id}-{item_name}\")\n",
    "                os.makedirs(output_dir, exist_ok=True)  # Ensure output directory exists\n",
    "\n",
    "                # Stream the content in chunks\n",
    "                chunk_size = 32768  # 32 KB\n",
    "                downloaded_size = 0\n",
    "\n",
    "                with tqdm(\n",
    "                    total=total_size,\n",
    "                    unit=\"B\",\n",
    "                    unit_scale=True,\n",
    "                    unit_divisor=1024,\n",
    "                    desc=f\"Downloading {item_name}\",\n",
    "                    position=1,\n",
    "                ) as progress_bar:\n",
    "                    async with aiofiles.open(file_path, \"wb\") as f:\n",
    "                        async for chunk in response.content.iter_chunked(chunk_size):\n",
    "                            if chunk:\n",
    "                                await f.write(chunk)\n",
    "                                downloaded_size += len(chunk)\n",
    "                                progress_bar.update(len(chunk))\n",
    "\n",
    "                logger.info(f\"Downloaded: {item_parent_id}-{item_name}\")\n",
    "        except aiohttp.ClientError as e:\n",
    "            logger.error(f\"Error downloading {item_parent_id}-{item_name}: {e}\")\n",
    "\n",
    "async def main(final_item_ids, token):\n",
    "    async with aiohttp.ClientSession(\n",
    "        headers={\n",
    "            \"Content-Type\": \"application/json\",\n",
    "            \"Accept\": \"application/json\",\n",
    "        }\n",
    "    ) as http_client:\n",
    "        # Create download tasks\n",
    "        download_tasks = [\n",
    "            download_file(http_client, item_id, item_name, item_parent_id, token, output_dir)\n",
    "            for item_id, item_name, item_parent_id in final_item_ids\n",
    "        ]\n",
    "\n",
    "        # Run all tasks concurrently with asyncio.gather\n",
    "        await tqdm.gather(*download_tasks)\n",
    "\n",
    "# Example usage\n",
    "# asyncio.run(main(final_item_ids, token))\n",
    "\n",
    "await main(final_item_ids, token)"
   ]
  },
  {
   "cell_type": "code",
   "execution_count": null,
   "metadata": {},
   "outputs": [],
   "source": [
    "True"
   ]
  },
  {
   "cell_type": "code",
   "execution_count": null,
   "metadata": {},
   "outputs": [],
   "source": []
  },
  {
   "cell_type": "code",
   "execution_count": null,
   "metadata": {},
   "outputs": [],
   "source": [
    "# import os\n",
    "\n",
    "# input_path = \"vob_files\"\n",
    "# output_path = \"mp4_files\"\n",
    "# for filename in tqdm(os.listdir(input_path), desc=\"Converting files from VOB to MP4\"):\n",
    "#     if (filename.endswith(\".VOB\")): #or .avi, .mpeg, whatever.\n",
    "#         os.system(f\"ffmpeg -y -i {input_path}/{filename} {output_path}/{filename[:-3]}mp4 > /dev/null\")\n",
    "#     else:\n",
    "#         continue"
   ]
  },
  {
   "cell_type": "code",
   "execution_count": null,
   "metadata": {},
   "outputs": [
    {
     "data": {
      "application/vnd.jupyter.widget-view+json": {
       "model_id": "943736855d0d4ae189d62bb79c1b9534",
       "version_major": 2,
       "version_minor": 0
      },
      "text/plain": [
       "Converting files from VOB to MP4:   0%|          | 0/3 [00:00<?, ?it/s]"
      ]
     },
     "metadata": {},
     "output_type": "display_data"
    },
    {
     "name": "stdout",
     "output_type": "stream",
     "text": [
      "Could not extract video duration.\n"
     ]
    },
    {
     "data": {
      "application/vnd.jupyter.widget-view+json": {
       "model_id": "ccf565ce41284f3dadb83b0d3ec923f5",
       "version_major": 2,
       "version_minor": 0
      },
      "text/plain": [
       "Progress:   0%|          | 0/1791.3 [00:00<?, ?s/s]"
      ]
     },
     "metadata": {},
     "output_type": "display_data"
    },
    {
     "data": {
      "application/vnd.jupyter.widget-view+json": {
       "model_id": "99e754b35e744b80bbbd0dc8d344a9ca",
       "version_major": 2,
       "version_minor": 0
      },
      "text/plain": [
       "Progress:   0%|          | 0/465.0 [00:00<?, ?s/s]"
      ]
     },
     "metadata": {},
     "output_type": "display_data"
    }
   ],
   "source": [
    "import re\n",
    "import subprocess\n",
    "from tqdm.auto import tqdm\n",
    "import os\n",
    "\n",
    "# Function to run FFmpeg and capture its output\n",
    "def run_ffmpeg(input_file, output_file):\n",
    "    # The FFmpeg command to run\n",
    "    command = [\n",
    "        'ffmpeg',\n",
    "        '-y',\n",
    "        '-i', input_file,\n",
    "        '-c:v', 'libx264',  # Example codec, change as needed\n",
    "        '-c:a', 'aac',      # Example codec for audio, change as needed\n",
    "        output_file\n",
    "    ]\n",
    "    \n",
    "    # Run the FFmpeg process and capture the output\n",
    "    process = subprocess.Popen(command, stdout=subprocess.PIPE, stderr=subprocess.PIPE, text=True)\n",
    "    \n",
    "    # Read the FFmpeg output line by line\n",
    "    for line in process.stderr:\n",
    "        yield line\n",
    "\n",
    "# Function to extract time from FFmpeg output using regex\n",
    "def extract_time(ffmpeg_output):\n",
    "    time_pattern = r\"time=(\\d{2}:\\d{2}:\\d{2}\\.\\d{2})\"\n",
    "    times = re.findall(time_pattern, ffmpeg_output)\n",
    "    return times\n",
    "\n",
    "# Function to get the total duration of the video\n",
    "def get_video_duration(input_file):\n",
    "    # Run FFmpeg probe command to get the total duration of the video\n",
    "    probe_command = ['ffmpeg', '-i', input_file]\n",
    "    probe_process = subprocess.Popen(probe_command, stdout=subprocess.PIPE, stderr=subprocess.PIPE, text=True)\n",
    "    for line in probe_process.stderr:\n",
    "        if 'Duration' in line:\n",
    "            # Extract the duration from the FFmpeg probe output\n",
    "            duration_match = re.search(r\"Duration: (\\d{2}):(\\d{2}):(\\d{2})\\.(\\d{2})\", line)\n",
    "            if duration_match:\n",
    "                hours = int(duration_match.group(1))\n",
    "                minutes = int(duration_match.group(2))\n",
    "                seconds = int(duration_match.group(3))\n",
    "                milliseconds = int(duration_match.group(4))\n",
    "                total_duration = hours * 3600 + minutes * 60 + seconds + milliseconds / 100\n",
    "                return total_duration\n",
    "    return None\n",
    "\n",
    "# Function to track progress using tqdm\n",
    "def track_progress(input_file, output_file):\n",
    "    total_duration = get_video_duration(input_file)\n",
    "\n",
    "    if total_duration is None:\n",
    "        print(\"Could not extract video duration.\")\n",
    "        return\n",
    "\n",
    "    # Initialize tqdm progress bar\n",
    "    with tqdm(total=total_duration, unit=\"s\", desc=\"Progress\", position=1) as pbar: #ncols=100\n",
    "        # Run FFmpeg to process the video\n",
    "        for line in run_ffmpeg(input_file, output_file):\n",
    "            # Extract time from FFmpeg output\n",
    "            times = extract_time(line)\n",
    "            for t in times:\n",
    "                # Convert time to seconds\n",
    "                h, m, s = map(float, t.split(':'))\n",
    "                current_time = h * 3600 + m * 60 + s\n",
    "                pbar.n = current_time\n",
    "                pbar.last_print_n = current_time\n",
    "                pbar.update(0)  # Update the progress bar without moving it forward automatically\n",
    "                pbar.set_postfix(time=t)\n",
    "\n",
    "\n",
    "input_path = \"vob_files\"\n",
    "output_path = \"mp4_files\"\n",
    "\n",
    "for filename in tqdm(os.listdir(input_path), desc=\"Converting files from VOB to MP4\", position=0):\n",
    "    if (filename.endswith(\".VOB\")): #or .avi, .mpeg, whatever.\n",
    "        input_file = f\"{input_path}/{filename}\"\n",
    "        output_file = f\"{output_path}/{filename[:-4]}.mp4\"\n",
    "        track_progress(input_file, output_file)"
   ]
  },
  {
   "cell_type": "code",
   "execution_count": null,
   "metadata": {},
   "outputs": [],
   "source": []
  },
  {
   "cell_type": "code",
   "execution_count": null,
   "metadata": {},
   "outputs": [
    {
     "data": {
      "application/vnd.jupyter.widget-view+json": {
       "model_id": "2be39512e1c04bb899cbacb3720f8466",
       "version_major": 2,
       "version_minor": 0
      },
      "text/plain": [
       "Preparing uploads:   0%|          | 0/2 [00:00<?, ?it/s]"
      ]
     },
     "metadata": {},
     "output_type": "display_data"
    },
    {
     "data": {
      "application/vnd.jupyter.widget-view+json": {
       "model_id": "75cc0474d3e54a63b494a4ad08bbc564",
       "version_major": 2,
       "version_minor": 0
      },
      "text/plain": [
       "  0%|          | 0/2 [00:00<?, ?it/s]"
      ]
     },
     "metadata": {},
     "output_type": "display_data"
    },
    {
     "data": {
      "application/vnd.jupyter.widget-view+json": {
       "model_id": "2f66d19a491844c69f87547246c92981",
       "version_major": 2,
       "version_minor": 0
      },
      "text/plain": [
       "Uploading VTS_01_2.mp4:   0%|          | 0/1729 [00:00<?, ?it/s]"
      ]
     },
     "metadata": {},
     "output_type": "display_data"
    },
    {
     "data": {
      "application/vnd.jupyter.widget-view+json": {
       "model_id": "0e2d574addc748fa96f5a0ac610d6270",
       "version_major": 2,
       "version_minor": 0
      },
      "text/plain": [
       "Uploading VTS_01_1.mp4:   0%|          | 0/1618 [00:00<?, ?it/s]"
      ]
     },
     "metadata": {},
     "output_type": "display_data"
    },
    {
     "name": "stderr",
     "output_type": "stream",
     "text": [
      "INFO:__main__:File VTS_01_1.mp4 upload complete.\n",
      "INFO:__main__:File VTS_01_2.mp4 upload complete.\n"
     ]
    }
   ],
   "source": [
    "import os\n",
    "import aiohttp\n",
    "import aiofiles\n",
    "import asyncio\n",
    "from tqdm.auto import tqdm\n",
    "import logging\n",
    "\n",
    "logging.basicConfig(level=logging.INFO)\n",
    "logger = logging.getLogger(__name__)\n",
    "\n",
    "input_path = \"vob_files\"\n",
    "output_path = \"mp4_files\"\n",
    "\n",
    "# Semaphore to limit concurrent uploads\n",
    "CONCURRENT_UPLOADS = 5  # Adjust as needed\n",
    "semaphore = asyncio.Semaphore(CONCURRENT_UPLOADS)\n",
    "\n",
    "async def upload_chunk(http_client, upload_url, headers, chunk_data, retries=3):\n",
    "    for attempt in range(retries):\n",
    "        try:\n",
    "            async with http_client.put(\n",
    "                url=upload_url,\n",
    "                headers=headers,\n",
    "                data=chunk_data\n",
    "            ) as response:\n",
    "                response.raise_for_status()\n",
    "                return\n",
    "        except aiohttp.ClientError as e:\n",
    "            if attempt < retries - 1:\n",
    "                await asyncio.sleep(2 ** attempt)  # Exponential backoff\n",
    "                continue\n",
    "            logger.error(f\"Failed to upload chunk after {retries} attempts: {e}\")\n",
    "            raise\n",
    "\n",
    "async def upload_file(fname, token, output_path):\n",
    "    async with semaphore:  # Limit concurrent uploads\n",
    "        try:\n",
    "            item_parent_id, filename = fname.split(\"-\")\n",
    "        except ValueError:\n",
    "            logger.error(f\"Invalid file name format: {fname}. Skipping.\")\n",
    "            return\n",
    "\n",
    "        async with aiohttp.ClientSession() as http_client:\n",
    "            request_body = {\n",
    "                \"item\": {\n",
    "                    \"description\": \"a large file\",\n",
    "                    \"name\": filename\n",
    "                }\n",
    "            }\n",
    "            async with http_client.post(\n",
    "                url=f\"https://graph.microsoft.com/v1.0/me/drive/items/{item_parent_id}:/{filename}:/createUploadSession\",\n",
    "                headers={\"Authorization\": f\"{token}\"},\n",
    "                json=request_body\n",
    "            ) as response_upload_session:\n",
    "                response_upload_session.raise_for_status()\n",
    "                upload_url = (await response_upload_session.json())[\"uploadUrl\"]\n",
    "\n",
    "            try:\n",
    "                async with aiofiles.open(f'{output_path}/{fname}', 'rb') as upload:\n",
    "                    total_file_size = os.path.getsize(f'{output_path}/{fname}')\n",
    "                    chunk_size = 327680\n",
    "                    chunk_number = (total_file_size + chunk_size - 1) // chunk_size\n",
    "\n",
    "                    for counter in tqdm(range(chunk_number), desc=f\"Uploading {filename}\", position=1):\n",
    "                        chunk_data = await upload.read(chunk_size)\n",
    "                        start_index = counter * chunk_size\n",
    "                        end_index = start_index + len(chunk_data)\n",
    "\n",
    "                        headers = {\n",
    "                            \"Content-Length\": f\"{len(chunk_data)}\",\n",
    "                            \"Content-Range\": f\"bytes {start_index}-{end_index - 1}/{total_file_size}\"\n",
    "                        }\n",
    "\n",
    "                        await upload_chunk(http_client, upload_url, headers, chunk_data)\n",
    "                    logger.info(f\"File {filename} upload complete.\")\n",
    "            except FileNotFoundError:\n",
    "                logger.error(f\"File {fname} not found in {output_path}. Skipping.\")\n",
    "            except PermissionError:\n",
    "                logger.error(f\"Permission denied for file {fname}. Skipping.\")\n",
    "\n",
    "async def main():\n",
    "    #token = \"your_token_here\"\n",
    "    #if not token:\n",
    "    #    raise ValueError(\"Authorization token is missing or invalid.\")\n",
    "\n",
    "    # Collect all filenames\n",
    "    file_list = os.listdir(output_path)\n",
    "\n",
    "    # Create upload tasks\n",
    "    upload_tasks = [\n",
    "        upload_file(fname, token, output_path)\n",
    "        for fname in tqdm(file_list, desc=\"Preparing uploads\", position=0)\n",
    "    ]\n",
    "\n",
    "    # Run tasks concurrently\n",
    "    await tqdm.gather(*upload_tasks)\n",
    "\n",
    "\n",
    "await main()"
   ]
  },
  {
   "cell_type": "code",
   "execution_count": null,
   "metadata": {},
   "outputs": [],
   "source": []
  },
  {
   "cell_type": "code",
   "execution_count": null,
   "metadata": {},
   "outputs": [],
   "source": []
  },
  {
   "cell_type": "code",
   "execution_count": null,
   "metadata": {},
   "outputs": [],
   "source": []
  }
 ],
 "metadata": {
  "kernelspec": {
   "display_name": "3.12.3",
   "language": "python",
   "name": "python3"
  },
  "language_info": {
   "codemirror_mode": {
    "name": "ipython",
    "version": 3
   },
   "file_extension": ".py",
   "mimetype": "text/x-python",
   "name": "python",
   "nbconvert_exporter": "python",
   "pygments_lexer": "ipython3",
   "version": "3.11.0"
  }
 },
 "nbformat": 4,
 "nbformat_minor": 2
}
